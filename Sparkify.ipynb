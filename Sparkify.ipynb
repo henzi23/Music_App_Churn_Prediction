{
 "cells": [
  {
   "cell_type": "markdown",
   "metadata": {},
   "source": [
    "# Sparkify Project Workspace\n",
    "This workspace contains a tiny subset (128MB) of the full dataset available (12GB). Feel free to use this workspace to build your project, or to explore a smaller subset with Spark before deploying your cluster on the cloud. Instructions for setting up your Spark cluster is included in the last lesson of the Extracurricular Spark Course content.\n",
    "\n",
    "You can follow the steps below to guide your data analysis and model building portion of this project."
   ]
  },
  {
   "cell_type": "code",
   "execution_count": 1,
   "metadata": {},
   "outputs": [],
   "source": [
    "# Imports\n",
    "from pyspark.sql import SparkSession\n",
    "from pyspark.sql.functions import udf\n",
    "from pyspark.sql.types import IntegerType\n",
    "from pyspark.sql.functions import col,count, desc, avg, max, min, countDistinct\n",
    "from pyspark.sql import Window\n",
    "from pyspark.sql.functions import sum as Fsum\n",
    "\n",
    "import datetime\n",
    "import numpy as np\n",
    "import pandas as pd\n",
    "\n",
    "%matplotlib inline\n",
    "import matplotlib.pyplot as plt\n"
   ]
  },
  {
   "cell_type": "code",
   "execution_count": 2,
   "metadata": {},
   "outputs": [],
   "source": [
    "# create a Spark session\n",
    "spark = SparkSession \\\n",
    "    .builder \\\n",
    "    .appName(\"Sparkify subset\") \\\n",
    "    .getOrCreate()"
   ]
  },
  {
   "cell_type": "markdown",
   "metadata": {},
   "source": [
    "# Load and Clean Dataset\n",
    "In this workspace, the mini-dataset file is `mini_sparkify_event_data.json`. Load and clean the dataset, checking for invalid or missing data - for example, records without userids or sessionids. "
   ]
  },
  {
   "cell_type": "code",
   "execution_count": 3,
   "metadata": {},
   "outputs": [],
   "source": [
    "# read in sample data\n",
    "df = spark.read.json(\"mini_sparkify_event_data.json\")"
   ]
  },
  {
   "cell_type": "markdown",
   "metadata": {},
   "source": [
    "# Exploratory Data Analysis\n",
    "When you're working with the full dataset, perform EDA by loading a small subset of the data and doing basic manipulations within Spark. In this workspace, you are already provided a small subset of data you can explore.\n",
    "\n",
    "### Define Churn\n",
    "\n",
    "Once you've done some preliminary analysis, create a column `Churn` to use as the label for your model. I suggest using the `Cancellation Confirmation` events to define your churn, which happen for both paid and free users. As a bonus task, you can also look into the `Downgrade` events.\n",
    "\n",
    "### Explore Data\n",
    "Once you've defined churn, perform some exploratory data analysis to observe the behavior for users who stayed vs users who churned. You can start by exploring aggregates on these two groups of users, observing how much of a specific action they experienced per a certain time unit or number of songs played."
   ]
  },
  {
   "cell_type": "markdown",
   "metadata": {},
   "source": [
    "### Gain understanding of dataset\n",
    "\n",
    "We start by looking at some general dataset information to get a feel for what the dataset looks like"
   ]
  },
  {
   "cell_type": "code",
   "execution_count": 4,
   "metadata": {
    "scrolled": true
   },
   "outputs": [
    {
     "name": "stdout",
     "output_type": "stream",
     "text": [
      "root\n",
      " |-- artist: string (nullable = true)\n",
      " |-- auth: string (nullable = true)\n",
      " |-- firstName: string (nullable = true)\n",
      " |-- gender: string (nullable = true)\n",
      " |-- itemInSession: long (nullable = true)\n",
      " |-- lastName: string (nullable = true)\n",
      " |-- length: double (nullable = true)\n",
      " |-- level: string (nullable = true)\n",
      " |-- location: string (nullable = true)\n",
      " |-- method: string (nullable = true)\n",
      " |-- page: string (nullable = true)\n",
      " |-- registration: long (nullable = true)\n",
      " |-- sessionId: long (nullable = true)\n",
      " |-- song: string (nullable = true)\n",
      " |-- status: long (nullable = true)\n",
      " |-- ts: long (nullable = true)\n",
      " |-- userAgent: string (nullable = true)\n",
      " |-- userId: string (nullable = true)\n",
      "\n"
     ]
    }
   ],
   "source": [
    "# investigate data schema\n",
    "df.printSchema()"
   ]
  },
  {
   "cell_type": "code",
   "execution_count": 5,
   "metadata": {},
   "outputs": [
    {
     "data": {
      "text/plain": [
       "[Row(artist='Martha Tilston', auth='Logged In', firstName='Colin', gender='M', itemInSession=50, lastName='Freeman', length=277.89016, level='paid', location='Bakersfield, CA', method='PUT', page='NextSong', registration=1538173362000, sessionId=29, song='Rockpools', status=200, ts=1538352117000, userAgent='Mozilla/5.0 (Windows NT 6.1; WOW64; rv:31.0) Gecko/20100101 Firefox/31.0', userId='30')]"
      ]
     },
     "execution_count": 5,
     "metadata": {},
     "output_type": "execute_result"
    }
   ],
   "source": [
    "# look at a record\n",
    "df.take(1)"
   ]
  },
  {
   "cell_type": "code",
   "execution_count": 6,
   "metadata": {
    "scrolled": true
   },
   "outputs": [
    {
     "data": {
      "text/plain": [
       "286500"
      ]
     },
     "execution_count": 6,
     "metadata": {},
     "output_type": "execute_result"
    }
   ],
   "source": [
    "# total number of records\n",
    "df.count()"
   ]
  },
  {
   "cell_type": "code",
   "execution_count": 7,
   "metadata": {},
   "outputs": [
    {
     "data": {
      "text/plain": [
       "226"
      ]
     },
     "execution_count": 7,
     "metadata": {},
     "output_type": "execute_result"
    }
   ],
   "source": [
    "# total number of users\n",
    "df.select(\"userId\").dropDuplicates().count()"
   ]
  },
  {
   "cell_type": "code",
   "execution_count": 8,
   "metadata": {},
   "outputs": [
    {
     "data": {
      "text/plain": [
       "[Row(page='Cancel', count=52),\n",
       " Row(page='Submit Downgrade', count=63),\n",
       " Row(page='Thumbs Down', count=2546),\n",
       " Row(page='Home', count=14457),\n",
       " Row(page='Downgrade', count=2055),\n",
       " Row(page='Roll Advert', count=3933),\n",
       " Row(page='Logout', count=3226),\n",
       " Row(page='Save Settings', count=310),\n",
       " Row(page='Cancellation Confirmation', count=52),\n",
       " Row(page='About', count=924),\n",
       " Row(page='Submit Registration', count=5),\n",
       " Row(page='Settings', count=1514),\n",
       " Row(page='Login', count=3241),\n",
       " Row(page='Register', count=18),\n",
       " Row(page='Add to Playlist', count=6526),\n",
       " Row(page='Add Friend', count=4277),\n",
       " Row(page='NextSong', count=228108),\n",
       " Row(page='Thumbs Up', count=12551),\n",
       " Row(page='Help', count=1726),\n",
       " Row(page='Upgrade', count=499),\n",
       " Row(page='Error', count=258),\n",
       " Row(page='Submit Upgrade', count=159)]"
      ]
     },
     "execution_count": 8,
     "metadata": {},
     "output_type": "execute_result"
    }
   ],
   "source": [
    "# Distribution of pages visited\n",
    "df.groupBy(\"page\").count().collect()"
   ]
  },
  {
   "cell_type": "code",
   "execution_count": 9,
   "metadata": {
    "scrolled": true
   },
   "outputs": [
    {
     "data": {
      "text/plain": [
       "[Row(page='Cancel', count(userID)=52),\n",
       " Row(page='Submit Downgrade', count(userID)=49),\n",
       " Row(page='Thumbs Down', count(userID)=203),\n",
       " Row(page='Home', count(userID)=224),\n",
       " Row(page='Downgrade', count(userID)=154),\n",
       " Row(page='Roll Advert', count(userID)=207),\n",
       " Row(page='Logout', count(userID)=213),\n",
       " Row(page='Save Settings', count(userID)=132),\n",
       " Row(page='Cancellation Confirmation', count(userID)=52),\n",
       " Row(page='About', count(userID)=156),\n",
       " Row(page='Submit Registration', count(userID)=1),\n",
       " Row(page='Settings', count(userID)=195),\n",
       " Row(page='Login', count(userID)=1),\n",
       " Row(page='Register', count(userID)=1),\n",
       " Row(page='Add to Playlist', count(userID)=215),\n",
       " Row(page='Add Friend', count(userID)=206),\n",
       " Row(page='NextSong', count(userID)=225),\n",
       " Row(page='Thumbs Up', count(userID)=220),\n",
       " Row(page='Help', count(userID)=193),\n",
       " Row(page='Upgrade', count(userID)=168),\n",
       " Row(page='Error', count(userID)=118),\n",
       " Row(page='Submit Upgrade', count(userID)=131)]"
      ]
     },
     "execution_count": 9,
     "metadata": {},
     "output_type": "execute_result"
    }
   ],
   "source": [
    "# Number of users going to each page\n",
    "df.select(\"userId\",\"page\").dropDuplicates().groupBy(\"page\").agg({\"userID\":\"count\"}).collect()"
   ]
  },
  {
   "cell_type": "code",
   "execution_count": 10,
   "metadata": {},
   "outputs": [],
   "source": [
    "# convert ts to date\n",
    "#get_date = udf(lambda x: datetime.datetime.utcfromtimestamp(x / 1000.0). date())\n",
    "get_date = udf(lambda x: datetime.datetime.fromtimestamp(x/1000).strftime('%Y-%m-%d'))\n",
    "df = df.withColumn('date', get_date(df.ts))"
   ]
  },
  {
   "cell_type": "code",
   "execution_count": 11,
   "metadata": {},
   "outputs": [
    {
     "name": "stdout",
     "output_type": "stream",
     "text": [
      "+----------+----------+\n",
      "|start_date|  end_date|\n",
      "+----------+----------+\n",
      "|2018-10-01|2018-12-03|\n",
      "+----------+----------+\n",
      "\n"
     ]
    }
   ],
   "source": [
    "# look at data time range\n",
    "df.agg(min('date').alias('start_date'),max('date').alias('end_date')).show()"
   ]
  },
  {
   "cell_type": "markdown",
   "metadata": {},
   "source": [
    "### Define Churn\n",
    "\n",
    "The goal for this analysis is to understand user churn.  For this study churn means that a user has confirmed cancellation of thier account (either paid or free account).  To help with future work we will identify the rows where churn transaction occurs (actions with page equal to 'Cancellation Confirmation').  Additionally for users with a churn action we will tag all of their actions with identification that they are a user with churn."
   ]
  },
  {
   "cell_type": "code",
   "execution_count": 12,
   "metadata": {},
   "outputs": [
    {
     "data": {
      "text/plain": [
       "52"
      ]
     },
     "execution_count": 12,
     "metadata": {},
     "output_type": "execute_result"
    }
   ],
   "source": [
    "# create column churn to flag churn events\n",
    "flag_churn = udf(lambda x: 1 if x==\"Cancellation Confirmation\" else 0, IntegerType())\n",
    "df = df.withColumn(\"churn\",flag_churn(\"page\"))\n",
    "\n",
    "# confirm count matches page='Cancellation Confirmation' count above\n",
    "df.filter(df.churn==1).count() "
   ]
  },
  {
   "cell_type": "code",
   "execution_count": 13,
   "metadata": {},
   "outputs": [],
   "source": [
    "# create column churn_user to identify users with a churn event\n",
    "windowval = Window.partitionBy(\"userId\")\n",
    "df = df.withColumn(\"churn_user\", Fsum(\"churn\").over(windowval))"
   ]
  },
  {
   "cell_type": "code",
   "execution_count": 14,
   "metadata": {},
   "outputs": [
    {
     "data": {
      "text/plain": [
       "[Row(userId='125'),\n",
       " Row(userId='51'),\n",
       " Row(userId='54'),\n",
       " Row(userId='100014'),\n",
       " Row(userId='101')]"
      ]
     },
     "execution_count": 14,
     "metadata": {},
     "output_type": "execute_result"
    }
   ],
   "source": [
    "# find some users with a churn action for testing\n",
    "df.select(\"userId\").filter(df.page == \"Cancellation Confirmation\").dropDuplicates().take(5)"
   ]
  },
  {
   "cell_type": "code",
   "execution_count": 15,
   "metadata": {
    "scrolled": false
   },
   "outputs": [
    {
     "name": "stdout",
     "output_type": "stream",
     "text": [
      "+-------------+--------------------+-----+----------+\n",
      "|           ts|                page|churn|churn_user|\n",
      "+-------------+--------------------+-----+----------+\n",
      "|1539317144000|            NextSong|    0|         1|\n",
      "|1539317481000|            NextSong|    0|         1|\n",
      "|1539317711000|            NextSong|    0|         1|\n",
      "|1539317914000|            NextSong|    0|         1|\n",
      "|1539318124000|            NextSong|    0|         1|\n",
      "|1539318515000|            NextSong|    0|         1|\n",
      "|1539318728000|            NextSong|    0|         1|\n",
      "|1539318906000|            NextSong|    0|         1|\n",
      "|1539318917000|         Roll Advert|    0|         1|\n",
      "|1539318918000|              Cancel|    0|         1|\n",
      "|1539318918000|Cancellation Conf...|    1|         1|\n",
      "+-------------+--------------------+-----+----------+\n",
      "\n"
     ]
    }
   ],
   "source": [
    "# check columns for user 125\n",
    "df.filter(df.userId=='125').select('ts','page','churn','churn_user').orderBy('ts').show()"
   ]
  },
  {
   "cell_type": "markdown",
   "metadata": {},
   "source": [
    "### Exploratory Data Analysis\n",
    "\n",
    "Now that we have churn identified we can start to explore the behavior of users that churn vs those that do not.  This exploration will establish some intuition regarding the data and help us prepare for feature engineering."
   ]
  },
  {
   "cell_type": "code",
   "execution_count": 16,
   "metadata": {
    "scrolled": true
   },
   "outputs": [
    {
     "name": "stdout",
     "output_type": "stream",
     "text": [
      "+-----+-----+\n",
      "|level|count|\n",
      "+-----+-----+\n",
      "| free|   21|\n",
      "| paid|   31|\n",
      "+-----+-----+\n",
      "\n"
     ]
    }
   ],
   "source": [
    "# level at time of churn\n",
    "df.filter(df.churn==1).groupBy(\"level\").count().show()"
   ]
  },
  {
   "cell_type": "code",
   "execution_count": 17,
   "metadata": {},
   "outputs": [
    {
     "name": "stdout",
     "output_type": "stream",
     "text": [
      "+-----+-----+-------------+\n",
      "|level|churn|count(userID)|\n",
      "+-----+-----+-------------+\n",
      "| paid|    0|          166|\n",
      "| free|    0|          196|\n",
      "| paid|    1|           31|\n",
      "| free|    1|           21|\n",
      "+-----+-----+-------------+\n",
      "\n"
     ]
    }
   ],
   "source": [
    "# number of users by account level and churn\n",
    "# note: may double count users as they could have been both levels during the span of time covered \n",
    "df.select(\"userId\",\"level\",\"churn\").dropDuplicates().groupBy(\"level\",\"churn\").agg({\"userID\":\"count\"}).show()"
   ]
  },
  {
   "cell_type": "markdown",
   "metadata": {},
   "source": [
    "It is interesting to note that the users with a churn event never had a change in status (total count = 52).  However some of the users without a churn event had changes in status."
   ]
  },
  {
   "cell_type": "code",
   "execution_count": 18,
   "metadata": {},
   "outputs": [
    {
     "name": "stdout",
     "output_type": "stream",
     "text": [
      "+----------+------------------+\n",
      "|churn_user|        avg(count)|\n",
      "+----------+------------------+\n",
      "|         0|15.367816091954023|\n",
      "|         1| 9.826923076923077|\n",
      "+----------+------------------+\n",
      "\n"
     ]
    }
   ],
   "source": [
    "# average numbers of days visited by user and churn\n",
    "user_visits_day = df.select('userID','churn_user','date').distinct().groupBy('userID','churn_user').count()\n",
    "user_visits_day.groupBy('churn_user').agg(avg('count')).show()"
   ]
  },
  {
   "cell_type": "code",
   "execution_count": 19,
   "metadata": {
    "scrolled": true
   },
   "outputs": [
    {
     "data": {
      "image/png": "[encoded data removed]",
      "text/plain": [
       "<matplotlib.figure.Figure at 0x7f8173608a90>"
      ]
     },
     "metadata": {
      "needs_background": "light"
     },
     "output_type": "display_data"
    }
   ],
   "source": [
    "# plot histogram of number of days visited\n",
    "visit_day_df = user_visits_day.toPandas()\n",
    "plt.hist([visit_day_df[visit_day_df.churn_user==1]['count'],\n",
    "          visit_day_df[visit_day_df.churn_user==0]['count']],\n",
    "        label=['churn','no churn'])\n",
    "plt.legend(loc='upper right')\n",
    "plt.show();"
   ]
  },
  {
   "cell_type": "markdown",
   "metadata": {},
   "source": [
    "Churn users tend to have less days with visits than non-churn users.  However this may be skewed as churn users may have a lower number of days that they had accounts.  We'll need to investigate total possible number of days and percent of possible days a user visited the site."
   ]
  },
  {
   "cell_type": "code",
   "execution_count": 20,
   "metadata": {},
   "outputs": [
    {
     "name": "stdout",
     "output_type": "stream",
     "text": [
      "+----------+-----------------+\n",
      "|churn_user|        avg(days)|\n",
      "+----------+-----------------+\n",
      "|         0|48.00574712643678|\n",
      "|         1|24.46153846153846|\n",
      "+----------+-----------------+\n",
      "\n"
     ]
    }
   ],
   "source": [
    "# total possible days by user\n",
    "\n",
    "delta_day = udf(lambda x,y: \n",
    "            (datetime.datetime.strptime(x, '%Y-%m-%d')-datetime.datetime.strptime(y, '%Y-%m-%d')).days + 1, IntegerType())\n",
    "\n",
    "user_possible = df.groupBy('userID','churn_user') \\\n",
    "    .agg(max('date').alias('end'),min('date').alias('start')) \n",
    "    \n",
    "user_possible = user_possible.withColumn(\"days\", delta_day(user_possible.end,user_possible.start))\n",
    "\n",
    "user_possible.groupBy('churn_user').agg(avg('days')).show()\n"
   ]
  },
  {
   "cell_type": "code",
   "execution_count": 21,
   "metadata": {},
   "outputs": [
    {
     "data": {
      "text/plain": [
       "churn_user\n",
       "0    34.160709\n",
       "1    52.465812\n",
       "Name: Percent_days_visited, dtype: float64"
      ]
     },
     "execution_count": 21,
     "metadata": {},
     "output_type": "execute_result"
    }
   ],
   "source": [
    "# percent of possible days visited by user\n",
    "possible_df = user_possible.toPandas()\n",
    "merged_usage = visit_day_df.merge(possible_df,on=['userID','churn_user'])\n",
    "merged_usage['Percent_days_visited'] = merged_usage['count'] / merged_usage['days'] *100\n",
    "\n",
    "merged_usage.groupby('churn_user')['Percent_days_visited'].mean()"
   ]
  },
  {
   "cell_type": "code",
   "execution_count": 22,
   "metadata": {
    "scrolled": true
   },
   "outputs": [
    {
     "data": {
      "image/png": "[encoded data removed]",
      "text/plain": [
       "<matplotlib.figure.Figure at 0x7f8171596668>"
      ]
     },
     "metadata": {
      "needs_background": "light"
     },
     "output_type": "display_data"
    }
   ],
   "source": [
    "# Plot percent of days visited by churn\n",
    "plt.hist([merged_usage[merged_usage.churn_user==1]['Percent_days_visited'],\n",
    "          merged_usage[merged_usage.churn_user==0]['Percent_days_visited']],\n",
    "        label=['churn','no churn'], cumulative=True)\n",
    "plt.legend(loc='upper left')\n",
    "plt.show();"
   ]
  },
  {
   "cell_type": "markdown",
   "metadata": {},
   "source": [
    "There is a significant delta in percent of days visited between users witha nd without churn."
   ]
  },
  {
   "cell_type": "code",
   "execution_count": 23,
   "metadata": {},
   "outputs": [],
   "source": [
    "# frequency of page visits by churn\n",
    "\n",
    "page_visits_churn = df.filter(df.churn_user==1).groupBy('page') \\\n",
    "    .agg(count('page').alias('visits'),countDistinct('userID').alias('users')) \\\n",
    "    .orderBy('visits',ascending=True).toPandas()\n",
    "\n",
    "page_visits_nochurn = df.filter(df.churn_user==0).groupBy('page') \\\n",
    "    .agg(count('page').alias('visits'),countDistinct('userID').alias('users')) \\\n",
    "    .orderBy('visits',ascending=True).toPandas()"
   ]
  },
  {
   "cell_type": "code",
   "execution_count": 24,
   "metadata": {},
   "outputs": [
    {
     "data": {
      "text/html": [
       "<div>\n",
       "<style scoped>\n",
       "    .dataframe tbody tr th:only-of-type {\n",
       "        vertical-align: middle;\n",
       "    }\n",
       "\n",
       "    .dataframe tbody tr th {\n",
       "        vertical-align: top;\n",
       "    }\n",
       "\n",
       "    .dataframe thead th {\n",
       "        text-align: right;\n",
       "    }\n",
       "</style>\n",
       "<table border=\"1\" class=\"dataframe\">\n",
       "  <thead>\n",
       "    <tr style=\"text-align: right;\">\n",
       "      <th></th>\n",
       "      <th>page</th>\n",
       "      <th>visits</th>\n",
       "      <th>users</th>\n",
       "    </tr>\n",
       "  </thead>\n",
       "  <tbody>\n",
       "    <tr>\n",
       "      <th>0</th>\n",
       "      <td>Submit Registration</td>\n",
       "      <td>5</td>\n",
       "      <td>1</td>\n",
       "    </tr>\n",
       "    <tr>\n",
       "      <th>1</th>\n",
       "      <td>Register</td>\n",
       "      <td>18</td>\n",
       "      <td>1</td>\n",
       "    </tr>\n",
       "    <tr>\n",
       "      <th>2</th>\n",
       "      <td>Submit Downgrade</td>\n",
       "      <td>54</td>\n",
       "      <td>40</td>\n",
       "    </tr>\n",
       "    <tr>\n",
       "      <th>3</th>\n",
       "      <td>Submit Upgrade</td>\n",
       "      <td>127</td>\n",
       "      <td>102</td>\n",
       "    </tr>\n",
       "    <tr>\n",
       "      <th>4</th>\n",
       "      <td>Error</td>\n",
       "      <td>226</td>\n",
       "      <td>96</td>\n",
       "    </tr>\n",
       "  </tbody>\n",
       "</table>\n",
       "</div>"
      ],
      "text/plain": [
       "                  page  visits  users\n",
       "0  Submit Registration       5      1\n",
       "1             Register      18      1\n",
       "2     Submit Downgrade      54     40\n",
       "3       Submit Upgrade     127    102\n",
       "4                Error     226     96"
      ]
     },
     "execution_count": 24,
     "metadata": {},
     "output_type": "execute_result"
    }
   ],
   "source": [
    "page_visits_nochurn.head()"
   ]
  },
  {
   "cell_type": "code",
   "execution_count": 25,
   "metadata": {
    "scrolled": true
   },
   "outputs": [
    {
     "data": {
      "image/png": "[encoded data removed]",
      "text/plain": [
       "<matplotlib.figure.Figure at 0x7f8171000208>"
      ]
     },
     "metadata": {
      "needs_background": "light"
     },
     "output_type": "display_data"
    }
   ],
   "source": [
    "fig, ax = plt.subplots(ncols=2, figsize=(15,5))\n",
    "\n",
    "fig.suptitle(\"Programming Languages Used by Developers by Coding Experience\",size=20)\n",
    "fig.subplots_adjust(top=0.85)\n",
    "fig.subplots_adjust(wspace=0.5)\n",
    "\n",
    "\n",
    "page_visits_churn.plot.barh(x='page',y='visits',color='c',legend=False, ax=ax[0],log=True)\n",
    "ax[0].set_title('Users with Churn')\n",
    "ax[0].set_xlabel('# of visits')\n",
    "ax[0].set_ylabel('')\n",
    "\n",
    "\n",
    "page_visits_nochurn.plot.barh(x='page',y='visits',color='c',legend=False, ax=ax[1],log=True)\n",
    "ax[1].set_title('Users without Churn')\n",
    "ax[1].set_xlabel('# of visits')\n",
    "ax[1].set_ylabel('');\n"
   ]
  },
  {
   "cell_type": "code",
   "execution_count": null,
   "metadata": {},
   "outputs": [],
   "source": [
    "# number of songs listened to by day by churn"
   ]
  },
  {
   "cell_type": "markdown",
   "metadata": {},
   "source": [
    "# Feature Engineering\n",
    "Once you've familiarized yourself with the data, build out the features you find promising to train your model on. To work with the full dataset, you can follow the following steps.\n",
    "- Write a script to extract the necessary features from the smaller subset of data\n",
    "- Ensure that your script is scalable, using the best practices discussed in Lesson 3\n",
    "- Try your script on the full data set, debugging your script if necessary\n",
    "\n",
    "If you are working in the classroom workspace, you can just extract features based on the small subset of data contained here. Be sure to transfer over this work to the larger dataset when you work on your Spark cluster."
   ]
  },
  {
   "cell_type": "code",
   "execution_count": null,
   "metadata": {},
   "outputs": [],
   "source": []
  },
  {
   "cell_type": "markdown",
   "metadata": {},
   "source": [
    "# Modeling\n",
    "Split the full dataset into train, test, and validation sets. Test out several of the machine learning methods you learned. Evaluate the accuracy of the various models, tuning parameters as necessary. Determine your winning model based on test accuracy and report results on the validation set. Since the churned users are a fairly small subset, I suggest using F1 score as the metric to optimize."
   ]
  },
  {
   "cell_type": "code",
   "execution_count": null,
   "metadata": {},
   "outputs": [],
   "source": []
  },
  {
   "cell_type": "markdown",
   "metadata": {},
   "source": [
    "# Final Steps\n",
    "Clean up your code, adding comments and renaming variables to make the code easier to read and maintain. Refer to the Spark Project Overview page and Data Scientist Capstone Project Rubric to make sure you are including all components of the capstone project and meet all expectations. Remember, this includes thorough documentation in a README file in a Github repository, as well as a web app or blog post."
   ]
  },
  {
   "cell_type": "code",
   "execution_count": null,
   "metadata": {},
   "outputs": [],
   "source": []
  },
  {
   "cell_type": "markdown",
   "metadata": {},
   "source": [
    "### References:\n",
    "\n",
    "* https://stackoverflow.com/questions/41011002/multiple-aggregations-in-spark-structured-streaming\n",
    "* https://stackoverflow.com/questions/8419564/difference-between-two-dates-in-python\n",
    "* https://stackoverflow.com/questions/42586096/pyspark-assigning-name-to-column-agg-output"
   ]
  },
  {
   "cell_type": "code",
   "execution_count": null,
   "metadata": {},
   "outputs": [],
   "source": []
  }
 ],
 "metadata": {
  "kernelspec": {
   "display_name": "Python 3",
   "language": "python",
   "name": "python3"
  },
  "language_info": {
   "codemirror_mode": {
    "name": "ipython",
    "version": 3
   },
   "file_extension": ".py",
   "mimetype": "text/x-python",
   "name": "python",
   "nbconvert_exporter": "python",
   "pygments_lexer": "ipython3",
   "version": "3.6.3"
  }
 },
 "nbformat": 4,
 "nbformat_minor": 2
}
