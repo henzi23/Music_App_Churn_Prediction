{
 "cells": [
  {
   "cell_type": "markdown",
   "metadata": {},
   "source": [
    "# Sparkify Project Workspace\n",
    "\n",
    "Workspace to investigate predicting user churn (account cancellation) for a fictional music app (Sparkify).  This project takes user action records (user info, page visited, timestamp, etc) as inputs.  These records will then be engineered to build features.  The resulting feature will used to generate a ML model for prediction.  Spark will be utilized to facilitate the analysis."
   ]
  },
  {
   "cell_type": "code",
   "execution_count": 1,
   "metadata": {},
   "outputs": [],
   "source": [
    "# Imports\n",
    "from pyspark.sql import SparkSession\n",
    "from pyspark.sql.functions import udf\n",
    "from pyspark.sql.types import IntegerType\n",
    "from pyspark.sql.functions import col,count, desc, avg, max, min, countDistinct, when, isnan, split\n",
    "from pyspark.sql import Window\n",
    "from pyspark.sql.functions import sum as Fsum\n",
    "\n",
    "from pyspark.ml import Pipeline\n",
    "from pyspark.ml.feature import VectorAssembler, Normalizer, OneHotEncoder, StringIndexer\n",
    "from pyspark.ml.classification import RandomForestClassifier, LogisticRegression, GBTClassifier\n",
    "from pyspark.ml.evaluation import MulticlassClassificationEvaluator\n",
    "from pyspark.ml.tuning import CrossValidator, ParamGridBuilder\n",
    "\n",
    "import datetime\n",
    "import numpy as np\n",
    "import pandas as pd\n",
    "\n",
    "%matplotlib inline\n",
    "import matplotlib.pyplot as plt\n"
   ]
  },
  {
   "cell_type": "code",
   "execution_count": 2,
   "metadata": {},
   "outputs": [],
   "source": [
    "# create a Spark session\n",
    "spark = SparkSession \\\n",
    "    .builder \\\n",
    "    .appName(\"Sparkify subset\") \\\n",
    "    .getOrCreate()"
   ]
  },
  {
   "cell_type": "markdown",
   "metadata": {},
   "source": [
    "# Load and Clean Dataset\n",
    "\n",
    "For analysis we will use a mini-dataset file (`mini_sparkify_event_data.json`).  This set will be loaded and checked for invalid or missing data.  We will focus on the attributes that will be most useful for our study.  These include page, userId, ts."
   ]
  },
  {
   "cell_type": "code",
   "execution_count": 3,
   "metadata": {},
   "outputs": [],
   "source": [
    "# read in sample data\n",
    "df = spark.read.json(\"mini_sparkify_event_data.json\")"
   ]
  },
  {
   "cell_type": "code",
   "execution_count": 4,
   "metadata": {
    "scrolled": false
   },
   "outputs": [
    {
     "name": "stdout",
     "output_type": "stream",
     "text": [
      "root\n",
      " |-- artist: string (nullable = true)\n",
      " |-- auth: string (nullable = true)\n",
      " |-- firstName: string (nullable = true)\n",
      " |-- gender: string (nullable = true)\n",
      " |-- itemInSession: long (nullable = true)\n",
      " |-- lastName: string (nullable = true)\n",
      " |-- length: double (nullable = true)\n",
      " |-- level: string (nullable = true)\n",
      " |-- location: string (nullable = true)\n",
      " |-- method: string (nullable = true)\n",
      " |-- page: string (nullable = true)\n",
      " |-- registration: long (nullable = true)\n",
      " |-- sessionId: long (nullable = true)\n",
      " |-- song: string (nullable = true)\n",
      " |-- status: long (nullable = true)\n",
      " |-- ts: long (nullable = true)\n",
      " |-- userAgent: string (nullable = true)\n",
      " |-- userId: string (nullable = true)\n",
      "\n"
     ]
    }
   ],
   "source": [
    "# investigate data schema\n",
    "df.printSchema()"
   ]
  },
  {
   "cell_type": "code",
   "execution_count": 5,
   "metadata": {
    "scrolled": false
   },
   "outputs": [
    {
     "name": "stdout",
     "output_type": "stream",
     "text": [
      "+------+----+---------+------+-------------+--------+------+-----+--------+------+----+------------+---------+-----+------+---+---------+------+\n",
      "|artist|auth|firstName|gender|itemInSession|lastName|length|level|location|method|page|registration|sessionId| song|status| ts|userAgent|userId|\n",
      "+------+----+---------+------+-------------+--------+------+-----+--------+------+----+------------+---------+-----+------+---+---------+------+\n",
      "| 58392|   0|     8346|  8346|            0|    8346| 58392|    0|    8346|     0|   0|        8346|        0|58392|     0|  0|     8346|     0|\n",
      "+------+----+---------+------+-------------+--------+------+-----+--------+------+----+------------+---------+-----+------+---+---------+------+\n",
      "\n"
     ]
    }
   ],
   "source": [
    "# Check for NA or null entries\n",
    "df.select([count(when(isnan(c) | col(c).isNull(), c)).alias(c) for c in df.columns]).show()"
   ]
  },
  {
   "cell_type": "code",
   "execution_count": 6,
   "metadata": {},
   "outputs": [
    {
     "data": {
      "text/plain": [
       "[Row(userId='100010'),\n",
       " Row(userId='200002'),\n",
       " Row(userId='125'),\n",
       " Row(userId='51'),\n",
       " Row(userId='124'),\n",
       " Row(userId='7'),\n",
       " Row(userId='54'),\n",
       " Row(userId='15'),\n",
       " Row(userId='155'),\n",
       " Row(userId='132'),\n",
       " Row(userId='154'),\n",
       " Row(userId='100014'),\n",
       " Row(userId='101'),\n",
       " Row(userId='11'),\n",
       " Row(userId='138'),\n",
       " Row(userId='300017'),\n",
       " Row(userId='29'),\n",
       " Row(userId='69'),\n",
       " Row(userId='100021'),\n",
       " Row(userId='42'),\n",
       " Row(userId='112'),\n",
       " Row(userId='87'),\n",
       " Row(userId='73'),\n",
       " Row(userId='64'),\n",
       " Row(userId='200010'),\n",
       " Row(userId='3'),\n",
       " Row(userId='30'),\n",
       " Row(userId='113'),\n",
       " Row(userId='34'),\n",
       " Row(userId='133'),\n",
       " Row(userId='59'),\n",
       " Row(userId='146'),\n",
       " Row(userId='139'),\n",
       " Row(userId='8'),\n",
       " Row(userId='28'),\n",
       " Row(userId='22'),\n",
       " Row(userId='300018'),\n",
       " Row(userId='300012'),\n",
       " Row(userId='100022'),\n",
       " Row(userId='85'),\n",
       " Row(userId='52'),\n",
       " Row(userId='35'),\n",
       " Row(userId='16'),\n",
       " Row(userId='300008'),\n",
       " Row(userId='71'),\n",
       " Row(userId='98'),\n",
       " Row(userId='300013'),\n",
       " Row(userId='99'),\n",
       " Row(userId='47'),\n",
       " Row(userId='100008'),\n",
       " Row(userId='100025'),\n",
       " Row(userId='110'),\n",
       " Row(userId='107'),\n",
       " Row(userId='300006'),\n",
       " Row(userId='300002'),\n",
       " Row(userId='96'),\n",
       " Row(userId='43'),\n",
       " Row(userId='300007'),\n",
       " Row(userId='5'),\n",
       " Row(userId='100'),\n",
       " Row(userId='100006'),\n",
       " Row(userId='18'),\n",
       " Row(userId='70'),\n",
       " Row(userId='100005'),\n",
       " Row(userId='27'),\n",
       " Row(userId='61'),\n",
       " Row(userId='75'),\n",
       " Row(userId='131'),\n",
       " Row(userId='126'),\n",
       " Row(userId='140'),\n",
       " Row(userId='17'),\n",
       " Row(userId='26'),\n",
       " Row(userId='100007'),\n",
       " Row(userId='120'),\n",
       " Row(userId='200007'),\n",
       " Row(userId='46'),\n",
       " Row(userId='300004'),\n",
       " Row(userId='147'),\n",
       " Row(userId='300001'),\n",
       " Row(userId='78'),\n",
       " Row(userId='300015'),\n",
       " Row(userId='77'),\n",
       " Row(userId='89'),\n",
       " Row(userId='136'),\n",
       " Row(userId='6'),\n",
       " Row(userId='118'),\n",
       " Row(userId='300019'),\n",
       " Row(userId='200014'),\n",
       " Row(userId='100009'),\n",
       " Row(userId='300011'),\n",
       " Row(userId='90'),\n",
       " Row(userId='104'),\n",
       " Row(userId='68'),\n",
       " Row(userId='60'),\n",
       " Row(userId='100004'),\n",
       " Row(userId='200003'),\n",
       " Row(userId='100015'),\n",
       " Row(userId='19'),\n",
       " Row(userId='300023'),\n",
       " Row(userId='300024'),\n",
       " Row(userId='41'),\n",
       " Row(userId='128'),\n",
       " Row(userId='23'),\n",
       " Row(userId='200024'),\n",
       " Row(userId='102'),\n",
       " Row(userId='55'),\n",
       " Row(userId='200008'),\n",
       " Row(userId='111'),\n",
       " Row(userId='100016'),\n",
       " Row(userId='100003'),\n",
       " Row(userId='95'),\n",
       " Row(userId='93'),\n",
       " Row(userId='40'),\n",
       " Row(userId='38'),\n",
       " Row(userId='103'),\n",
       " Row(userId='200005'),\n",
       " Row(userId='25'),\n",
       " Row(userId='200009'),\n",
       " Row(userId='135'),\n",
       " Row(userId='44'),\n",
       " Row(userId='156'),\n",
       " Row(userId='144'),\n",
       " Row(userId='100024'),\n",
       " Row(userId='115'),\n",
       " Row(userId='82'),\n",
       " Row(userId='200023'),\n",
       " Row(userId='53'),\n",
       " Row(userId='92'),\n",
       " Row(userId='122'),\n",
       " Row(userId='117'),\n",
       " Row(userId='108'),\n",
       " Row(userId='300010'),\n",
       " Row(userId='86'),\n",
       " Row(userId='200017'),\n",
       " Row(userId='58'),\n",
       " Row(userId='100011'),\n",
       " Row(userId='100019'),\n",
       " Row(userId='300014'),\n",
       " Row(userId='81'),\n",
       " Row(userId='33'),\n",
       " Row(userId='114'),\n",
       " Row(userId='150'),\n",
       " Row(userId='100012'),\n",
       " Row(userId='200018'),\n",
       " Row(userId='200025'),\n",
       " Row(userId='200016'),\n",
       " Row(userId='300003'),\n",
       " Row(userId='153'),\n",
       " Row(userId='200020'),\n",
       " Row(userId='141'),\n",
       " Row(userId='148'),\n",
       " Row(userId='97'),\n",
       " Row(userId='67'),\n",
       " Row(userId='106'),\n",
       " Row(userId='84'),\n",
       " Row(userId='143'),\n",
       " Row(userId='79'),\n",
       " Row(userId='300025'),\n",
       " Row(userId='9'),\n",
       " Row(userId='24'),\n",
       " Row(userId='32'),\n",
       " Row(userId='116'),\n",
       " Row(userId='152'),\n",
       " Row(userId='88'),\n",
       " Row(userId='134'),\n",
       " Row(userId='200001'),\n",
       " Row(userId='149'),\n",
       " Row(userId='105'),\n",
       " Row(userId='20'),\n",
       " Row(userId='200011'),\n",
       " Row(userId='200006'),\n",
       " Row(userId='100023'),\n",
       " Row(userId='142'),\n",
       " Row(userId='100013'),\n",
       " Row(userId='56'),\n",
       " Row(userId='127'),\n",
       " Row(userId='36'),\n",
       " Row(userId='300009'),\n",
       " Row(userId='10'),\n",
       " Row(userId='37'),\n",
       " Row(userId='300022'),\n",
       " Row(userId='49'),\n",
       " Row(userId='300021'),\n",
       " Row(userId='200004'),\n",
       " Row(userId='300005'),\n",
       " Row(userId='100017'),\n",
       " Row(userId='63'),\n",
       " Row(userId='300020'),\n",
       " Row(userId='65'),\n",
       " Row(userId='4'),\n",
       " Row(userId='121'),\n",
       " Row(userId='39'),\n",
       " Row(userId='200012'),\n",
       " Row(userId='62'),\n",
       " Row(userId='12'),\n",
       " Row(userId='83'),\n",
       " Row(userId=''),\n",
       " Row(userId='109'),\n",
       " Row(userId='123'),\n",
       " Row(userId='200022'),\n",
       " Row(userId='13'),\n",
       " Row(userId='200019'),\n",
       " Row(userId='14'),\n",
       " Row(userId='21'),\n",
       " Row(userId='66'),\n",
       " Row(userId='94'),\n",
       " Row(userId='91'),\n",
       " Row(userId='74'),\n",
       " Row(userId='137'),\n",
       " Row(userId='72'),\n",
       " Row(userId='300016'),\n",
       " Row(userId='151'),\n",
       " Row(userId='200015'),\n",
       " Row(userId='129'),\n",
       " Row(userId='76'),\n",
       " Row(userId='2'),\n",
       " Row(userId='80'),\n",
       " Row(userId='100018'),\n",
       " Row(userId='100002'),\n",
       " Row(userId='50'),\n",
       " Row(userId='145'),\n",
       " Row(userId='45'),\n",
       " Row(userId='57'),\n",
       " Row(userId='200021'),\n",
       " Row(userId='119'),\n",
       " Row(userId='100001')]"
      ]
     },
     "execution_count": 6,
     "metadata": {},
     "output_type": "execute_result"
    }
   ],
   "source": [
    "# Check userId for any unusual entries\n",
    "df.select('userId').distinct().collect()"
   ]
  },
  {
   "cell_type": "code",
   "execution_count": 7,
   "metadata": {},
   "outputs": [
    {
     "data": {
      "text/plain": [
       "[Row(page='Cancel'),\n",
       " Row(page='Submit Downgrade'),\n",
       " Row(page='Thumbs Down'),\n",
       " Row(page='Home'),\n",
       " Row(page='Downgrade'),\n",
       " Row(page='Roll Advert'),\n",
       " Row(page='Logout'),\n",
       " Row(page='Save Settings'),\n",
       " Row(page='Cancellation Confirmation'),\n",
       " Row(page='About'),\n",
       " Row(page='Submit Registration'),\n",
       " Row(page='Settings'),\n",
       " Row(page='Login'),\n",
       " Row(page='Register'),\n",
       " Row(page='Add to Playlist'),\n",
       " Row(page='Add Friend'),\n",
       " Row(page='NextSong'),\n",
       " Row(page='Thumbs Up'),\n",
       " Row(page='Help'),\n",
       " Row(page='Upgrade'),\n",
       " Row(page='Error'),\n",
       " Row(page='Submit Upgrade')]"
      ]
     },
     "execution_count": 7,
     "metadata": {},
     "output_type": "execute_result"
    }
   ],
   "source": [
    "# Check page for any unusual entries\n",
    "df.select('page').distinct().collect()"
   ]
  },
  {
   "cell_type": "code",
   "execution_count": 8,
   "metadata": {
    "scrolled": false
   },
   "outputs": [
    {
     "name": "stdout",
     "output_type": "stream",
     "text": [
      "+-------------+-------------+\n",
      "|      max(ts)|      min(ts)|\n",
      "+-------------+-------------+\n",
      "|1543799476000|1538352117000|\n",
      "+-------------+-------------+\n",
      "\n"
     ]
    }
   ],
   "source": [
    "# Check range of ts to make sure it makes sense\n",
    "df.select('ts').agg(max('ts'),min('ts')).show()"
   ]
  },
  {
   "cell_type": "markdown",
   "metadata": {},
   "source": [
    "It appears as if the dataset is quite clean.  There are only missing entries for columns where we would expect missing info (for example artisit and song will be missing for page actions that do not include songs, etc).  Additionally, our focus columns only include entries that make sense.  Thus it is felt that cleaning will not be required."
   ]
  },
  {
   "cell_type": "markdown",
   "metadata": {},
   "source": [
    "# Exploratory Data Analysis\n",
    "\n",
    "Our exploratory data analysis will be performed in 3 steps.  First we will gain a better understanding of the dataset.  Next the key classification (churn) will be defined and added to the set.  Finally we will investigate hypotheses to try and identify features to include in our model."
   ]
  },
  {
   "cell_type": "markdown",
   "metadata": {},
   "source": [
    "## Gain understanding of dataset\n",
    "\n",
    "We start by looking at some general dataset information to get a feel for what the dataset looks like (format of columns, number of rows, cvount of users, etc).  Additionally we will transform any columns that will help us to better utilize the column information (example convert timestamp to date for ease of understanding)."
   ]
  },
  {
   "cell_type": "code",
   "execution_count": 9,
   "metadata": {},
   "outputs": [
    {
     "data": {
      "text/plain": [
       "[Row(artist='Martha Tilston', auth='Logged In', firstName='Colin', gender='M', itemInSession=50, lastName='Freeman', length=277.89016, level='paid', location='Bakersfield, CA', method='PUT', page='NextSong', registration=1538173362000, sessionId=29, song='Rockpools', status=200, ts=1538352117000, userAgent='Mozilla/5.0 (Windows NT 6.1; WOW64; rv:31.0) Gecko/20100101 Firefox/31.0', userId='30')]"
      ]
     },
     "execution_count": 9,
     "metadata": {},
     "output_type": "execute_result"
    }
   ],
   "source": [
    "# look at a record\n",
    "df.take(1)"
   ]
  },
  {
   "cell_type": "code",
   "execution_count": 10,
   "metadata": {
    "scrolled": true
   },
   "outputs": [
    {
     "data": {
      "text/plain": [
       "286500"
      ]
     },
     "execution_count": 10,
     "metadata": {},
     "output_type": "execute_result"
    }
   ],
   "source": [
    "# total number of records\n",
    "df.count()"
   ]
  },
  {
   "cell_type": "code",
   "execution_count": 11,
   "metadata": {},
   "outputs": [
    {
     "data": {
      "text/plain": [
       "226"
      ]
     },
     "execution_count": 11,
     "metadata": {},
     "output_type": "execute_result"
    }
   ],
   "source": [
    "# total number of users\n",
    "df.select(\"userId\").dropDuplicates().count()"
   ]
  },
  {
   "cell_type": "code",
   "execution_count": 12,
   "metadata": {},
   "outputs": [
    {
     "data": {
      "text/plain": [
       "[Row(page='Cancel', count=52),\n",
       " Row(page='Submit Downgrade', count=63),\n",
       " Row(page='Thumbs Down', count=2546),\n",
       " Row(page='Home', count=14457),\n",
       " Row(page='Downgrade', count=2055),\n",
       " Row(page='Roll Advert', count=3933),\n",
       " Row(page='Logout', count=3226),\n",
       " Row(page='Save Settings', count=310),\n",
       " Row(page='Cancellation Confirmation', count=52),\n",
       " Row(page='About', count=924),\n",
       " Row(page='Submit Registration', count=5),\n",
       " Row(page='Settings', count=1514),\n",
       " Row(page='Login', count=3241),\n",
       " Row(page='Register', count=18),\n",
       " Row(page='Add to Playlist', count=6526),\n",
       " Row(page='Add Friend', count=4277),\n",
       " Row(page='NextSong', count=228108),\n",
       " Row(page='Thumbs Up', count=12551),\n",
       " Row(page='Help', count=1726),\n",
       " Row(page='Upgrade', count=499),\n",
       " Row(page='Error', count=258),\n",
       " Row(page='Submit Upgrade', count=159)]"
      ]
     },
     "execution_count": 12,
     "metadata": {},
     "output_type": "execute_result"
    }
   ],
   "source": [
    "# Distribution of pages visited\n",
    "df.groupBy(\"page\").count().collect()"
   ]
  },
  {
   "cell_type": "code",
   "execution_count": 13,
   "metadata": {
    "scrolled": true
   },
   "outputs": [
    {
     "data": {
      "text/plain": [
       "[Row(page='Cancel', count(userId)=52),\n",
       " Row(page='Submit Downgrade', count(userId)=49),\n",
       " Row(page='Thumbs Down', count(userId)=203),\n",
       " Row(page='Home', count(userId)=224),\n",
       " Row(page='Downgrade', count(userId)=154),\n",
       " Row(page='Roll Advert', count(userId)=207),\n",
       " Row(page='Logout', count(userId)=213),\n",
       " Row(page='Save Settings', count(userId)=132),\n",
       " Row(page='Cancellation Confirmation', count(userId)=52),\n",
       " Row(page='About', count(userId)=156),\n",
       " Row(page='Submit Registration', count(userId)=1),\n",
       " Row(page='Settings', count(userId)=195),\n",
       " Row(page='Login', count(userId)=1),\n",
       " Row(page='Register', count(userId)=1),\n",
       " Row(page='Add to Playlist', count(userId)=215),\n",
       " Row(page='Add Friend', count(userId)=206),\n",
       " Row(page='NextSong', count(userId)=225),\n",
       " Row(page='Thumbs Up', count(userId)=220),\n",
       " Row(page='Help', count(userId)=193),\n",
       " Row(page='Upgrade', count(userId)=168),\n",
       " Row(page='Error', count(userId)=118),\n",
       " Row(page='Submit Upgrade', count(userId)=131)]"
      ]
     },
     "execution_count": 13,
     "metadata": {},
     "output_type": "execute_result"
    }
   ],
   "source": [
    "# Number of users going to each page\n",
    "df.select(\"userId\",\"page\").dropDuplicates().groupBy(\"page\").agg({\"userId\":\"count\"}).collect()"
   ]
  },
  {
   "cell_type": "code",
   "execution_count": 14,
   "metadata": {},
   "outputs": [],
   "source": [
    "# convert ts to date\n",
    "get_date = udf(lambda x: datetime.datetime.fromtimestamp(x/1000).strftime('%Y-%m-%d'))\n",
    "df = df.withColumn('date', get_date(df.ts))"
   ]
  },
  {
   "cell_type": "code",
   "execution_count": 15,
   "metadata": {},
   "outputs": [
    {
     "name": "stdout",
     "output_type": "stream",
     "text": [
      "+----------+----------+\n",
      "|start_date|  end_date|\n",
      "+----------+----------+\n",
      "|2018-10-01|2018-12-03|\n",
      "+----------+----------+\n",
      "\n"
     ]
    }
   ],
   "source": [
    "# look at data time range\n",
    "df.agg(min('date').alias('start_date'),max('date').alias('end_date')).show()"
   ]
  },
  {
   "cell_type": "markdown",
   "metadata": {},
   "source": [
    "## Define Churn\n",
    "\n",
    "The goal for this analysis is to understand user churn.  For this study churn means that a user has confirmed cancellation of thier account (either paid or free account).  To help with future work we will identify the rows where churn transaction occurs (actions with page equal to 'Cancellation Confirmation').  Additionally for users with a churn action we will tag all of their actions with identification that they are a user with churn."
   ]
  },
  {
   "cell_type": "code",
   "execution_count": 16,
   "metadata": {},
   "outputs": [
    {
     "data": {
      "text/plain": [
       "52"
      ]
     },
     "execution_count": 16,
     "metadata": {},
     "output_type": "execute_result"
    }
   ],
   "source": [
    "# create column churn to flag churn events\n",
    "flag_churn = udf(lambda x: 1 if x==\"Cancellation Confirmation\" else 0, IntegerType())\n",
    "df = df.withColumn(\"churn\",flag_churn(\"page\"))\n",
    "\n",
    "# confirm count matches page='Cancellation Confirmation' count above (52)\n",
    "df.filter(df.churn==1).count() "
   ]
  },
  {
   "cell_type": "code",
   "execution_count": 17,
   "metadata": {},
   "outputs": [],
   "source": [
    "# create column churn_user to identify users with a churn event\n",
    "windowval = Window.partitionBy(\"userId\")\n",
    "df = df.withColumn(\"churn_user\", Fsum(\"churn\").over(windowval))"
   ]
  },
  {
   "cell_type": "code",
   "execution_count": 18,
   "metadata": {},
   "outputs": [
    {
     "data": {
      "text/plain": [
       "[Row(userId='125'),\n",
       " Row(userId='51'),\n",
       " Row(userId='54'),\n",
       " Row(userId='100014'),\n",
       " Row(userId='101')]"
      ]
     },
     "execution_count": 18,
     "metadata": {},
     "output_type": "execute_result"
    }
   ],
   "source": [
    "# find some users with a churn action for testing\n",
    "df.select(\"userId\").filter(df.page == \"Cancellation Confirmation\").dropDuplicates().take(5)"
   ]
  },
  {
   "cell_type": "code",
   "execution_count": 19,
   "metadata": {
    "scrolled": false
   },
   "outputs": [
    {
     "name": "stdout",
     "output_type": "stream",
     "text": [
      "+-------------+--------------------+-----+----------+\n",
      "|           ts|                page|churn|churn_user|\n",
      "+-------------+--------------------+-----+----------+\n",
      "|1539317144000|            NextSong|    0|         1|\n",
      "|1539317481000|            NextSong|    0|         1|\n",
      "|1539317711000|            NextSong|    0|         1|\n",
      "|1539317914000|            NextSong|    0|         1|\n",
      "|1539318124000|            NextSong|    0|         1|\n",
      "|1539318515000|            NextSong|    0|         1|\n",
      "|1539318728000|            NextSong|    0|         1|\n",
      "|1539318906000|            NextSong|    0|         1|\n",
      "|1539318917000|         Roll Advert|    0|         1|\n",
      "|1539318918000|              Cancel|    0|         1|\n",
      "|1539318918000|Cancellation Conf...|    1|         1|\n",
      "+-------------+--------------------+-----+----------+\n",
      "\n"
     ]
    }
   ],
   "source": [
    "# check columns for user 125\n",
    "df.filter(df.userId=='125').select('ts','page','churn','churn_user').orderBy('ts').show()"
   ]
  },
  {
   "cell_type": "markdown",
   "metadata": {},
   "source": [
    "## Exploratory Data \n",
    "\n",
    "Now that we have churn identified we can start to explore the behavior of users that churn vs those that do not.  This exploration will investigate a number of hypotheses to establish some intuition regarding the data and help us prepare for feature engineering.  The hypotheses that are investigated are:\n",
    "* Free members are more likely to leave than paid users.  We might expect this as it is assumed a paid member would downgrade to free before quiting.  Additionally, it is felt that the ads might drive a free user to quit.\n",
    "* Users that churn will have a lower frequency of usage (visit the site less often).\n",
    "* Users that churn listen to less songs per day that they log in.\n",
    "* Users that churn will visit different pages than those that don't.  Perhaps have to visit help pages more often, give thumbs down more often, etc."
   ]
  },
  {
   "cell_type": "markdown",
   "metadata": {},
   "source": [
    "### Hypothesis 1: Free members are more likely to churn\n",
    "For this we will look at distribution of level for users that have churned and compare to that of user that do not."
   ]
  },
  {
   "cell_type": "code",
   "execution_count": 20,
   "metadata": {
    "scrolled": false
   },
   "outputs": [
    {
     "name": "stdout",
     "output_type": "stream",
     "text": [
      "+-----+-----+\n",
      "|level|count|\n",
      "+-----+-----+\n",
      "| free|   21|\n",
      "| paid|   31|\n",
      "+-----+-----+\n",
      "\n"
     ]
    }
   ],
   "source": [
    "# level at time of churn\n",
    "df.filter(df.churn==1).groupBy(\"level\").count().show()"
   ]
  },
  {
   "cell_type": "code",
   "execution_count": 21,
   "metadata": {},
   "outputs": [
    {
     "name": "stdout",
     "output_type": "stream",
     "text": [
      "+-----+-----+-------------+\n",
      "|level|churn|count(userID)|\n",
      "+-----+-----+-------------+\n",
      "| paid|    0|          166|\n",
      "| free|    0|          196|\n",
      "| paid|    1|           31|\n",
      "| free|    1|           21|\n",
      "+-----+-----+-------------+\n",
      "\n"
     ]
    }
   ],
   "source": [
    "# number of users by account level and churn\n",
    "# note: may double count users as they could have been both levels during the span of time covered \n",
    "df.select(\"userId\",\"level\",\"churn\").dropDuplicates().groupBy(\"level\",\"churn\").agg({\"userID\":\"count\"}).show()"
   ]
  },
  {
   "cell_type": "markdown",
   "metadata": {},
   "source": [
    "It appears as our hypothesis is off.  Only 40% of users that churned were free.  However for users that stay we find more free users.  Nonetheless this feature does show differentiation, so could be interesting to include in our model"
   ]
  },
  {
   "cell_type": "markdown",
   "metadata": {},
   "source": [
    "### Hypothesis 2: Users that churn will visit site less days\n",
    "For this we will look at distribution of number of days with actions by user."
   ]
  },
  {
   "cell_type": "code",
   "execution_count": 22,
   "metadata": {},
   "outputs": [
    {
     "name": "stdout",
     "output_type": "stream",
     "text": [
      "+----------+------------------+\n",
      "|churn_user|        avg(count)|\n",
      "+----------+------------------+\n",
      "|         0|15.367816091954023|\n",
      "|         1| 9.826923076923077|\n",
      "+----------+------------------+\n",
      "\n"
     ]
    }
   ],
   "source": [
    "# average numbers of days visited by user and churn\n",
    "user_visits_day = df.select('userId','churn_user','date').distinct().groupBy('userId','churn_user').count()\n",
    "user_visits_day.groupBy('churn_user').agg(avg('count')).show()"
   ]
  },
  {
   "cell_type": "code",
   "execution_count": 23,
   "metadata": {
    "scrolled": true
   },
   "outputs": [
    {
     "data": {
      "image/png": "[encoded data removed]",
      "text/plain": [
       "<matplotlib.figure.Figure at 0x7fdf4f136048>"
      ]
     },
     "metadata": {
      "needs_background": "light"
     },
     "output_type": "display_data"
    }
   ],
   "source": [
    "# plot histogram of number of days visited\n",
    "visit_day_df = user_visits_day.toPandas()\n",
    "\n",
    "plt.title(\"Histogram for Number of Days Visited by User\")\n",
    "plt.xlabel(\"Days\")\n",
    "plt.ylabel(\"User Count\")\n",
    "plt.hist([visit_day_df[visit_day_df.churn_user==1]['count'],\n",
    "          visit_day_df[visit_day_df.churn_user==0]['count']],\n",
    "        label=['churn','no churn'],normed=1)\n",
    "plt.legend(loc='upper right')\n",
    "plt.show();"
   ]
  },
  {
   "cell_type": "markdown",
   "metadata": {},
   "source": [
    "Churn users tend to have less days with visits than non-churn users.  However this may be skewed as churn users may have a lower number of days that they had accounts.  We'll need to investigate total possible number of days and percent of possible days a user visited the site."
   ]
  },
  {
   "cell_type": "code",
   "execution_count": 24,
   "metadata": {},
   "outputs": [
    {
     "name": "stdout",
     "output_type": "stream",
     "text": [
      "+----------+-------------------+\n",
      "|churn_user|total_possible_days|\n",
      "+----------+-------------------+\n",
      "|         0|  48.00574712643678|\n",
      "|         1|  24.46153846153846|\n",
      "+----------+-------------------+\n",
      "\n"
     ]
    }
   ],
   "source": [
    "# total possible days by user\n",
    "\n",
    "delta_day = udf(lambda x,y: \n",
    "            (datetime.datetime.strptime(x, '%Y-%m-%d')-datetime.datetime.strptime(y, '%Y-%m-%d')).days + 1, IntegerType())\n",
    "\n",
    "user_possible = df.groupBy('userId','churn_user') \\\n",
    "    .agg(max('date').alias('end'),min('date').alias('start')) \n",
    "    \n",
    "user_possible = user_possible.withColumn(\"days\", delta_day(user_possible.end,user_possible.start))\n",
    "\n",
    "user_possible.groupBy('churn_user').agg(avg('days').alias('total_possible_days')).show()\n"
   ]
  },
  {
   "cell_type": "code",
   "execution_count": 25,
   "metadata": {
    "scrolled": true
   },
   "outputs": [
    {
     "data": {
      "text/plain": [
       "churn_user\n",
       "0    34.160709\n",
       "1    52.465812\n",
       "Name: Percent_days_visited, dtype: float64"
      ]
     },
     "execution_count": 25,
     "metadata": {},
     "output_type": "execute_result"
    }
   ],
   "source": [
    "# percent of possible days visited by user\n",
    "possible_df = user_possible.toPandas()\n",
    "merged_usage = visit_day_df.merge(possible_df,on=['userId','churn_user'])\n",
    "merged_usage['Percent_days_visited'] = merged_usage['count'] / merged_usage['days'] *100\n",
    "\n",
    "merged_usage.groupby('churn_user')['Percent_days_visited'].mean()"
   ]
  },
  {
   "cell_type": "code",
   "execution_count": 51,
   "metadata": {
    "scrolled": true
   },
   "outputs": [
    {
     "data": {
      "image/png": "[encoded data removed]",
      "text/plain": [
       "<matplotlib.figure.Figure at 0x7fdf4c5399e8>"
      ]
     },
     "metadata": {
      "needs_background": "light"
     },
     "output_type": "display_data"
    }
   ],
   "source": [
    "# Plot percent of days visited by churn\n",
    "\n",
    "plt.title(\"Histogram for Percent of Days Visited by User\")\n",
    "plt.xlabel(\"Percent of Days\")\n",
    "plt.ylabel(\"User Count\")\n",
    "plt.hist([merged_usage[merged_usage.churn_user==1]['Percent_days_visited'],\n",
    "          merged_usage[merged_usage.churn_user==0]['Percent_days_visited']],\n",
    "        label=['churn','no churn'],normed=1)\n",
    "plt.legend(loc='upper right');\n",
    "\n",
    "plt.savefig('percent_days.jpg', bbox_inches='tight')"
   ]
  },
  {
   "cell_type": "markdown",
   "metadata": {},
   "source": [
    "Again our hypothesis seems to be off.  Churn users do indeed visit less days.  However they also have lower possible number of days to visit (days while account is active).  After calculating the rate of daily usage we find churn users visit a much high percent of days.  Again this feature shows differentiation, so we will include in our model."
   ]
  },
  {
   "cell_type": "markdown",
   "metadata": {},
   "source": [
    "### Hypothesis 3: Users that churn listen to less music the days they visit site\n",
    "For this we will look at distribution of \"NextSong\" page counts by user and date."
   ]
  },
  {
   "cell_type": "code",
   "execution_count": 27,
   "metadata": {},
   "outputs": [
    {
     "data": {
      "text/plain": [
       "churn_user\n",
       "0    64.988984\n",
       "1    62.536538\n",
       "Name: daily_avg, dtype: float64"
      ]
     },
     "execution_count": 27,
     "metadata": {},
     "output_type": "execute_result"
    }
   ],
   "source": [
    "# number of songs listened to by day by churn\n",
    "\n",
    "daily_songs_avg = df.filter(df.page=='NextSong') \\\n",
    "    .groupBy('userId','churn_user','date') \\\n",
    "    .agg(count('page').alias('songs')) \\\n",
    "    .groupBy('userId','churn_user') \\\n",
    "    .agg(avg('songs').alias('daily_avg')) \\\n",
    "    .toPandas()\n",
    "\n",
    "daily_songs_avg.groupby('churn_user')['daily_avg'].mean()"
   ]
  },
  {
   "cell_type": "code",
   "execution_count": 52,
   "metadata": {
    "scrolled": true
   },
   "outputs": [
    {
     "data": {
      "image/png": "[encoded data removed]",
      "text/plain": [
       "<matplotlib.figure.Figure at 0x7fdf4c5a0400>"
      ]
     },
     "metadata": {
      "needs_background": "light"
     },
     "output_type": "display_data"
    }
   ],
   "source": [
    "#plot distribution of average number of songs listened to each day visited\n",
    "\n",
    "plt.title(\"Histogram for Average number of Songs per Day Visited\")\n",
    "plt.xlabel(\"Average Number of Songs\")\n",
    "plt.ylabel(\"User Count\")\n",
    "plt.hist([daily_songs_avg[daily_songs_avg.churn_user==1]['daily_avg'],\n",
    "          daily_songs_avg[daily_songs_avg.churn_user==0]['daily_avg']],\n",
    "        label=['churn','no churn'], normed=1)\n",
    "plt.legend(loc='upper right');\n",
    "\n",
    "plt.savefig('songs_day.jpg', bbox_inches='tight')"
   ]
  },
  {
   "cell_type": "markdown",
   "metadata": {},
   "source": [
    "Again our hypotehsis seems disproved.  Additionally there seems to be little differentiation both in the overall average and the distribution by users.  Thus this is a feature we will not look to include in our model."
   ]
  },
  {
   "cell_type": "markdown",
   "metadata": {},
   "source": [
    "### Hypothesis 4: Churn users visit some pages more or less often than other users\n",
    "For this item we will look at total count of page visits and compare the ranking between the groups to see if there are differences that look interesting."
   ]
  },
  {
   "cell_type": "code",
   "execution_count": 29,
   "metadata": {},
   "outputs": [],
   "source": [
    "# frequency of page visits by churn\n",
    "\n",
    "page_visits_churn = df.filter(df.churn_user==1).groupBy('page') \\\n",
    "    .agg(count('page').alias('visits'),countDistinct('userId').alias('users')) \\\n",
    "    .orderBy('visits',ascending=True).toPandas()\n",
    "\n",
    "\n",
    "page_visits_nochurn = df.filter(df.churn_user==0).groupBy('page') \\\n",
    "    .agg(count('page').alias('visits'),countDistinct('userId').alias('users')) \\\n",
    "    .orderBy('visits',ascending=True).toPandas()"
   ]
  },
  {
   "cell_type": "code",
   "execution_count": 48,
   "metadata": {
    "scrolled": false
   },
   "outputs": [
    {
     "data": {
      "image/png": "[encoded data removed]",
      "text/plain": [
       "<matplotlib.figure.Figure at 0x7fdf4c0df400>"
      ]
     },
     "metadata": {
      "needs_background": "light"
     },
     "output_type": "display_data"
    }
   ],
   "source": [
    "# Plot page ranking by count by group\n",
    "fig, ax = plt.subplots(ncols=2, figsize=(15,5))\n",
    "\n",
    "fig.suptitle(\"Page Visit Frequency Ranking by User Groups\",size=20)\n",
    "fig.subplots_adjust(top=0.85)\n",
    "fig.subplots_adjust(wspace=0.5)\n",
    "\n",
    "\n",
    "page_visits_churn.plot.barh(x='page',y='visits',color='c',legend=False, ax=ax[0],log=True)\n",
    "ax[0].set_title('Users with Churn')\n",
    "ax[0].set_xlabel('# of visits')\n",
    "ax[0].set_ylabel('')\n",
    "\n",
    "\n",
    "page_visits_nochurn.plot.barh(x='page',y='visits',color='c',legend=False, ax=ax[1],log=True)\n",
    "ax[1].set_title('Users without Churn')\n",
    "ax[1].set_xlabel('# of visits')\n",
    "ax[1].set_ylabel('');\n",
    "\n",
    "plt.savefig('page_frequency.jpg', bbox_inches='tight')"
   ]
  },
  {
   "cell_type": "markdown",
   "metadata": {},
   "source": [
    "This hypothesis seems to be proved.  There are a few pages that differ significantly in ranking.  Some exmaples are: Roll Advert, Error.  Additionally we have a few page that non-churn user visit that churn users do not visit (Login, Register, Submit Registration).  We should consider these  in our model."
   ]
  },
  {
   "cell_type": "markdown",
   "metadata": {},
   "source": [
    "# Feature Engineering\n",
    "Now that we have a better understanding of the dataset and some features we think are interesting (based on our hypothesis investigations), we can move on to feature engineering.  In this section we will transform the dataset to create a new set including the following:\n",
    "* userId - primary key\n",
    "* level - either free, paid, or both (having at one time switched level within the timeframe)\n",
    "* visit_rate - fraction of days the user visited site\n",
    "* page visit counts for:\n",
    "    * Roll Advert\n",
    "    * Error\n",
    "    * Login\n",
    "    * Register\n",
    "    * Submit Registration\n",
    "    * other_pages - sum of all other page visit counts\n",
    "* churn- item we are attempting to predict\n",
    "\n",
    "For this effort we will build up stepwise and then convert to a function that performs the full feature engineering (such as it can easily be applied to other datasets)."
   ]
  },
  {
   "cell_type": "code",
   "execution_count": 31,
   "metadata": {},
   "outputs": [],
   "source": [
    "# read in fresh copy of sample data\n",
    "df_fe = spark.read.json(\"mini_sparkify_event_data.json\")"
   ]
  },
  {
   "cell_type": "code",
   "execution_count": 32,
   "metadata": {},
   "outputs": [],
   "source": [
    "# create function to convert timestamp column to date\n",
    "\n",
    "def convert_ts(df):\n",
    "    '''\n",
    "    Function convert column with timestamp to a date in form yyyy-mm-dd\n",
    "    Input:\n",
    "        df : pyspark dataframe including action data\n",
    "    Output:\n",
    "        pyspark dataframe including original data and added column \"churn\" \n",
    "            indicating user has churn event\n",
    "    '''\n",
    "    get_date = udf(lambda x: datetime.datetime.fromtimestamp(x/1000).strftime('%Y-%m-%d'))\n",
    "    df = df.withColumn('date', get_date('ts'))\n",
    "    df = df.drop('ts')\n",
    "    \n",
    "    return(df)"
   ]
  },
  {
   "cell_type": "code",
   "execution_count": 33,
   "metadata": {
    "scrolled": true
   },
   "outputs": [],
   "source": [
    "# create function to determine churn for each user\n",
    "\n",
    "def get_churn(df):\n",
    "    '''\n",
    "    Function to add indicator that user has a churn event.\n",
    "    Input:\n",
    "        df : pyspark dataframe including action data\n",
    "    Output:\n",
    "        pyspark dataframe including userid and churn indicator\n",
    "    '''\n",
    "    \n",
    "    flag_churn = udf(lambda x: 1 if x==\"Cancellation Confirmation\" else 0, IntegerType())\n",
    "    df = df.select('userId','page').withColumn(\"churn_flag\",flag_churn(\"page\"))\n",
    "    \n",
    "    windowval = Window.partitionBy(\"userId\")\n",
    "    df = df.withColumn(\"churn\", Fsum(\"churn_flag\").over(windowval))\n",
    "    df = df.drop(\"churn_flag\",\"page\").distinct()\n",
    "    \n",
    "    return(df)"
   ]
  },
  {
   "cell_type": "code",
   "execution_count": 34,
   "metadata": {},
   "outputs": [],
   "source": [
    "# create function to determine level (paid, free, both) for each user\n",
    "\n",
    "def get_level(df):\n",
    "    '''\n",
    "    Function determine account level (paid, free, both) for each user\n",
    "    Input:\n",
    "        df : pyspark dataframe including action data\n",
    "    Output:\n",
    "        pyspark dataframe including userid and account level (paid, free, both)\n",
    "    '''\n",
    "        \n",
    "    flag_paid = udf(lambda x: 1 if x==\"paid\" else 0, IntegerType())\n",
    "    level_type = udf(lambda x,y: \"paid\" if x+y==2 else (\"both\" if x+y==1 else \"free\"))\n",
    "    \n",
    "    df = df.select('userId','level').distinct() \\\n",
    "        .withColumn(\"paid_flag\",flag_paid(\"level\")) \\\n",
    "        .groupBy('userId') \\\n",
    "        .agg(max(\"paid_flag\").alias('max'),min(\"paid_flag\").alias('min'))\n",
    "    \n",
    "    df = df.withColumn('level',level_type('max','min')).drop('max','min')\n",
    "\n",
    "    return(df)\n"
   ]
  },
  {
   "cell_type": "code",
   "execution_count": 35,
   "metadata": {},
   "outputs": [],
   "source": [
    "# create function to determine fraction of days visited for each user\n",
    "\n",
    "def get_visit_frac(df):\n",
    "    '''\n",
    "    Function determine fraction of days visited for each user\n",
    "    Input:\n",
    "        df : pyspark dataframe including action data\n",
    "    Output:\n",
    "        pyspark dataframe including userid and fraction of days that teh user visited site\n",
    "    '''\n",
    "    \n",
    "    visits = df.select('userId','date').distinct().groupBy('userId').count()\n",
    "\n",
    "\n",
    "    delta_day = udf(lambda x,y: \n",
    "            (datetime.datetime.strptime(x, '%Y-%m-%d')-datetime.datetime.strptime(y, '%Y-%m-%d')).days + 1, IntegerType())\n",
    "\n",
    "    days = df.groupBy('userId') \\\n",
    "        .agg(max('date').alias('end'),min('date').alias('start')) \n",
    "    \n",
    "    days = days.withColumn(\"days\", delta_day('end','start')) \\\n",
    "        .drop('end','start')\n",
    "\n",
    "    merged = visits.join(days,on='userId')\n",
    "    merged = merged.withColumn('visit_rate',col('count')/col('days')) \\\n",
    "        .drop('count','days')\n",
    "    \n",
    "    return(merged)"
   ]
  },
  {
   "cell_type": "code",
   "execution_count": 36,
   "metadata": {},
   "outputs": [],
   "source": [
    "# create function to return page visit counts\n",
    "\n",
    "def get_page_visits(df):\n",
    "    '''\n",
    "    Function determine fraction of days visited for each user\n",
    "    Input:\n",
    "        df : pyspark dataframe including action data\n",
    "    Output:\n",
    "        pyspark dataframe including the page visit counts\n",
    "    '''\n",
    "    \n",
    "    df = df.select('userId','page')\n",
    "    interest_pages = ['Roll Advert','Error','Login','Register','Submit Registration']\n",
    "\n",
    "    rename_page = udf(lambda x: 'other' if x not in interest_pages else x)\n",
    "    df = df.withColumn('page_adj',rename_page('page'))\n",
    "    df = df.groupBy('userID').pivot('page_adj').count().na.fill(0)\n",
    "    \n",
    "    return(df)"
   ]
  },
  {
   "cell_type": "code",
   "execution_count": 37,
   "metadata": {},
   "outputs": [],
   "source": [
    "# function to bring it all together\n",
    "\n",
    "def feature_eng(df):\n",
    "    '''\n",
    "    Function determine fraction of days visited for each user\n",
    "    Input:\n",
    "        df : pyspark dataframe including action data\n",
    "    Output:\n",
    "        pyspark dataframe including all of engineered features and associated labels\n",
    "    '''\n",
    "    df = df.select('userId','level','ts','page')\n",
    "    df = convert_ts(df)\n",
    "    \n",
    "    output = get_churn(df_fe)\n",
    "    \n",
    "    df_level = get_level(df)\n",
    "    output = output.join(df_level, on='userId')\n",
    "    \n",
    "    df_visit = get_visit_frac(df)\n",
    "    output = output.join(df_visit, on='userId')\n",
    "    \n",
    "    df_pages = get_page_visits(df)\n",
    "    output = output.join(df_pages, on='userId')\n",
    "    \n",
    "    return(output)\n",
    "\n",
    "df_fe_output = feature_eng(df_fe)\n"
   ]
  },
  {
   "cell_type": "code",
   "execution_count": 38,
   "metadata": {},
   "outputs": [
    {
     "name": "stdout",
     "output_type": "stream",
     "text": [
      "+------+-----+-----+-------------------+-----+-----+--------+-----------+-------------------+-----+\n",
      "|userId|churn|level|         visit_rate|Error|Login|Register|Roll Advert|Submit Registration|other|\n",
      "+------+-----+-----+-------------------+-----+-----+--------+-----------+-------------------+-----+\n",
      "|100010|    0| free|0.15555555555555556|    0|    0|       0|         52|                  0|  329|\n",
      "|200002|    0| both|0.15217391304347827|    0|    0|       0|          7|                  0|  467|\n",
      "|   125|    1| free|                1.0|    0|    0|       0|          1|                  0|   10|\n",
      "|   124|    0| paid| 0.5409836065573771|    6|    0|       0|          4|                  0| 4815|\n",
      "|    51|    1| paid| 0.7647058823529411|    1|    0|       0|          0|                  0| 2463|\n",
      "|     7|    0| free|0.15384615384615385|    1|    0|       0|         16|                  0|  184|\n",
      "|    15|    0| paid| 0.3392857142857143|    2|    0|       0|          1|                  0| 2275|\n",
      "|    54|    1| both| 0.7209302325581395|    1|    0|       0|         47|                  0| 3389|\n",
      "|   155|    0| both| 0.2962962962962963|    3|    0|       0|          8|                  0|  991|\n",
      "|100014|    1| paid|0.14285714285714285|    0|    0|       0|          2|                  0|  308|\n",
      "|   132|    0| both| 0.4117647058823529|    3|    0|       0|          2|                  0| 2299|\n",
      "|   154|    0| free|0.11538461538461539|    0|    0|       0|         10|                  0|  108|\n",
      "|   101|    1| both|             0.8125|    3|    0|       0|          8|                  0| 2138|\n",
      "|    11|    0| both| 0.2962962962962963|    1|    0|       0|         39|                  0|  808|\n",
      "|   138|    0| both| 0.2982456140350877|    1|    0|       0|         17|                  0| 2451|\n",
      "|300017|    0| paid| 0.8333333333333334|    5|    0|       0|         11|                  0| 4412|\n",
      "|100021|    1| free|0.10869565217391304|    2|    0|       0|         30|                  0|  287|\n",
      "|    29|    1| both| 0.6444444444444445|    0|    0|       0|         22|                  0| 3581|\n",
      "|    69|    0| both|0.23076923076923078|    4|    0|       0|          3|                  0| 1335|\n",
      "|   112|    0| free|0.13793103448275862|    0|    0|       0|         21|                  0|  271|\n",
      "+------+-----+-----+-------------------+-----+-----+--------+-----------+-------------------+-----+\n",
      "only showing top 20 rows\n",
      "\n"
     ]
    }
   ],
   "source": [
    "df_fe_output.show()"
   ]
  },
  {
   "cell_type": "markdown",
   "metadata": {},
   "source": [
    "# Modeling\n",
    "Next we move into model development.  First we will split the feature engineered dataset into train, validation, and test sets.  We will then train preliminary versions of models.  Once trained we will test the preliminary models using the validation set to determine the model we want to move forward with.  Tuning will then be performed on the best model.  Once tuned we will test the model on the training set to understand the final performance."
   ]
  },
  {
   "cell_type": "markdown",
   "metadata": {},
   "source": [
    "## Spit dataset\n",
    "Feature engineered dataset is split into test, validation,a nd trainng datasets."
   ]
  },
  {
   "cell_type": "code",
   "execution_count": 39,
   "metadata": {},
   "outputs": [],
   "source": [
    "#split set into training, test, and validation sets\n",
    "train, rest = df_fe_output.randomSplit([0.6, 0.4], seed=42)\n",
    "test,validation = rest.randomSplit([0.5, 0.5], seed=42)"
   ]
  },
  {
   "cell_type": "markdown",
   "metadata": {},
   "source": [
    "## Build and Train Models\n",
    "We will build and train models using three different classifiers (RandomForestClassifier,LogisticRegression, and GBTClassifier).  These models where chosen as they are fairly common and relatively easy to interrupt.  A pipeline is built for each classifier including:\n",
    "* OneHotEncoding for the categorical feature (level)\n",
    "* Feature scaling for via Normalizer for the page visit counts.  Normalizer as chosen as realtive counts are more important than the actual count number.\n",
    "* Vector assembly via VectorAssembler\n",
    "* The assocaited classifier (using mostly default settings)\n",
    "\n",
    "Each pipeline is then trained using the training set"
   ]
  },
  {
   "cell_type": "code",
   "execution_count": 40,
   "metadata": {},
   "outputs": [],
   "source": [
    "# Build pipeline and train model for Random Forest\n",
    "levelIndexer = StringIndexer(inputCol=\"level\", outputCol=\"level_ind\")\n",
    "levelEncoder = OneHotEncoder(inputCol='level_ind', outputCol='level_encode')\n",
    "pageAssembler = VectorAssembler(inputCols=['Roll Advert','Error','Login','Register','Submit Registration','other'], \n",
    "                            outputCol=\"page_visits\")\n",
    "pageScaler = Normalizer(inputCol='page_visits', outputCol='scaled_page_visits')\n",
    "featureAssembler = VectorAssembler(inputCols=['level_encode','visit_rate','scaled_page_visits'], \n",
    "                            outputCol='features')\n",
    "\n",
    "rf = RandomForestClassifier(labelCol='churn', featuresCol='features', numTrees=10)\n",
    "\n",
    "pipeline_rf = Pipeline(stages=[levelIndexer,levelEncoder,pageAssembler,pageScaler,featureAssembler,rf])\n",
    "\n",
    "model_rf = pipeline_rf.fit(train)"
   ]
  },
  {
   "cell_type": "code",
   "execution_count": 41,
   "metadata": {},
   "outputs": [],
   "source": [
    "# Build pipeline and train model for LogisticRegression\n",
    "lr = LogisticRegression(labelCol='churn', featuresCol='features',maxIter=10)\n",
    "\n",
    "pipeline_lr = Pipeline(stages=[levelIndexer,levelEncoder,pageAssembler,pageScaler,featureAssembler,lr])\n",
    "\n",
    "model_lr= pipeline_lr.fit(train)"
   ]
  },
  {
   "cell_type": "code",
   "execution_count": 42,
   "metadata": {},
   "outputs": [],
   "source": [
    "# Build pipeline and train model for GBTClassifier\n",
    "gbt = GBTClassifier(labelCol='churn', featuresCol='features',maxIter=10)\n",
    "\n",
    "pipeline_gbt = Pipeline(stages=[levelIndexer,levelEncoder,pageAssembler,pageScaler,featureAssembler,gbt])\n",
    "\n",
    "model_gbt= pipeline_gbt.fit(train)"
   ]
  },
  {
   "cell_type": "markdown",
   "metadata": {},
   "source": [
    "## Preliminary Model Evaluation\n",
    "Each of the three models are evaluated using the validation set.  The F1 score for teh models are then compared to identify the best model to move forward.  The F1 metric was choosen as the rate of user churn is relatively low, so getting a blend of accuracy and precision made more sense than trying to focus on jsut one of them."
   ]
  },
  {
   "cell_type": "code",
   "execution_count": 43,
   "metadata": {
    "scrolled": true
   },
   "outputs": [
    {
     "name": "stdout",
     "output_type": "stream",
     "text": [
      "RF   F1= 0.6385373608903021\n",
      "LR   F1= 0.6476673427991886\n",
      "GBT  F1= 0.739807033924681\n"
     ]
    }
   ],
   "source": [
    "# get results of preliminary models of validation set\n",
    "evaluator = MulticlassClassificationEvaluator(labelCol='churn',predictionCol='prediction',metricName='f1')\n",
    "\n",
    "f1_rf = evaluator.evaluate(model_rf.transform(validation))\n",
    "f1_lr = evaluator.evaluate(model_lr.transform(validation))\n",
    "f1_gbt = evaluator.evaluate(model_gbt.transform(validation))\n",
    "\n",
    "print(\"RF   F1=\",f1_rf)\n",
    "print(\"LR   F1=\",f1_lr)\n",
    "print(\"GBT  F1=\",f1_gbt)"
   ]
  },
  {
   "cell_type": "markdown",
   "metadata": {},
   "source": [
    "## Tune Model\n",
    "From preliminary model testing above it was found that GBTClassifier perfromed the best on the validation set.  Thus we will tune this model using crossvalidation (utilzing the combined train and validation set).  We'll focus on the maxIter and maxDepth parameters for this tuning.  After tuning we will check the accuaracy of the tuned model at predicting the test set."
   ]
  },
  {
   "cell_type": "code",
   "execution_count": 44,
   "metadata": {},
   "outputs": [],
   "source": [
    "# Tune GBTClassifier model usign cross validation\n",
    "\n",
    "paramGrid = ParamGridBuilder() \\\n",
    "    .addGrid(gbt.maxIter,[10, 20]) \\\n",
    "    .addGrid(gbt.maxDepth,[2, 5]) \\\n",
    "    .build()\n",
    "\n",
    "\n",
    "crossval = CrossValidator(estimator=pipeline_gbt,\n",
    "                          estimatorParamMaps=paramGrid,\n",
    "                          evaluator=MulticlassClassificationEvaluator(labelCol='churn'),\n",
    "                          numFolds=3)"
   ]
  },
  {
   "cell_type": "code",
   "execution_count": 45,
   "metadata": {},
   "outputs": [],
   "source": [
    "# Fit and evaluate optimized model\n",
    "cvModel = crossval.fit(rest)\n",
    "f1 = evaluator.evaluate(cvModel.transform(test))"
   ]
  },
  {
   "cell_type": "code",
   "execution_count": 47,
   "metadata": {},
   "outputs": [
    {
     "name": "stdout",
     "output_type": "stream",
     "text": [
      "Optimized model accuracy =  86.66666666666667\n"
     ]
    }
   ],
   "source": [
    "# Check accuracy at predicting the test set\n",
    "results = cvModel.transform(test)\n",
    "accuracy = ((results.filter(results.churn == results.prediction).count())/(results.count())) * 100\n",
    "\n",
    "print(\"Optimized model accuracy = \",accuracy)"
   ]
  },
  {
   "cell_type": "markdown",
   "metadata": {},
   "source": [
    "The tuned model yielded an accuracy of 86.7% on the test set.  This is a pretty good number given the relatively low number of features utilized.  Future work could investigate utilzing a larger dataset to build the model or leveraging a subject matter expert to help in the feature selection."
   ]
  },
  {
   "cell_type": "markdown",
   "metadata": {},
   "source": [
    "### References:\n",
    "\n",
    "* https://stackoverflow.com/questions/41011002/multiple-aggregations-in-spark-structured-streaming\n",
    "* https://stackoverflow.com/questions/8419564/difference-between-two-dates-in-python\n",
    "* https://stackoverflow.com/questions/42586096/pyspark-assigning-name-to-column-agg-output\n",
    "* https://stackoverflow.com/questions/22241240/how-to-normalize-a-histogram-in-python?rq=1\n",
    "* https://stackoverflow.com/questions/44627386/how-to-find-count-of-null-and-nan-values-for-each-column-in-a-pyspark-dataframe\n",
    "* https://www.mien.in/2018/03/25/reshaping-dataframe-using-pivot-and-melt-in-apache-spark-and-pandas/\n",
    "* https://creativedata.atlassian.net/wiki/spaces/SAP/pages/83237142/Pyspark+-+Tutorial+based+on+Titanic+Dataset"
   ]
  },
  {
   "cell_type": "code",
   "execution_count": null,
   "metadata": {},
   "outputs": [],
   "source": []
  }
 ],
 "metadata": {
  "kernelspec": {
   "display_name": "Python 3",
   "language": "python",
   "name": "python3"
  },
  "language_info": {
   "codemirror_mode": {
    "name": "ipython",
    "version": 3
   },
   "file_extension": ".py",
   "mimetype": "text/x-python",
   "name": "python",
   "nbconvert_exporter": "python",
   "pygments_lexer": "ipython3",
   "version": "3.6.3"
  }
 },
 "nbformat": 4,
 "nbformat_minor": 2
}
